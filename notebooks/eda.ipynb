{
 "cells": [
  {
   "cell_type": "markdown",
   "metadata": {},
   "source": [
    "## 1주차 — 데이터/EDA/스키마\n",
    "- 데이터 다운로드·정합성 체크, 시계열 분할 기준 확정\n",
    "- 세션화, 네거티브 샘플링 로직 구현\n",
    "### EDA\n",
    "* 유저/아이템 분포\n",
    "* 세션 길이\n",
    "* 카테고리 커버리지\n",
    "* 시간대 패턴 / 시간대별 클릭률\n",
    "* position별 CTR"
   ]
  },
  {
   "cell_type": "code",
   "execution_count": null,
   "metadata": {
    "vscode": {
     "languageId": "plaintext"
    }
   },
   "outputs": [],
   "source": []
  }
 ],
 "metadata": {
  "language_info": {
   "name": "python"
  }
 },
 "nbformat": 4,
 "nbformat_minor": 2
}
